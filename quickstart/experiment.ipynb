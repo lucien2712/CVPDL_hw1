{
 "cells": [
  {
   "cell_type": "markdown",
   "metadata": {},
   "source": [
    "# Training"
   ]
  },
  {
   "cell_type": "code",
   "execution_count": 13,
   "metadata": {},
   "outputs": [
    {
     "name": "stdout",
     "output_type": "stream",
     "text": [
      "rt-detr-l summary: 673 layers, 32,970,476 parameters, 0 gradients, 108.3 GFLOPs\n"
     ]
    },
    {
     "data": {
      "text/plain": [
       "(673, 32970476, 0, 108.3437056)"
      ]
     },
     "execution_count": 13,
     "metadata": {},
     "output_type": "execute_result"
    }
   ],
   "source": [
    "from ultralytics import RTDETR\n",
    "\n",
    "# Load a COCO-pretrained RT-DETR-l model\n",
    "model = RTDETR(\"rtdetr-l.pt\")\n",
    "\n",
    "# Display model information (optional)\n",
    "model.info()"
   ]
  },
  {
   "cell_type": "code",
   "execution_count": null,
   "metadata": {},
   "outputs": [],
   "source": [
    "# Train the model on the COCO8 example dataset for 100 epochs\n",
    "results = model.train(data=\"my.yaml\", epochs=1)"
   ]
  },
  {
   "cell_type": "markdown",
   "metadata": {},
   "source": [
    "# Validation"
   ]
  },
  {
   "cell_type": "code",
   "execution_count": 10,
   "metadata": {},
   "outputs": [
    {
     "name": "stdout",
     "output_type": "stream",
     "text": [
      "\n",
      "0: 640x640 4 persons, 3 ovens, 846.1ms\n",
      "1: 640x640 1 person, 1 bench, 846.1ms\n",
      "Speed: 5.0ms preprocess, 846.1ms inference, 1.0ms postprocess per image at shape (1, 3, 640, 640)\n"
     ]
    }
   ],
   "source": [
    "import os\n",
    "files = []\n",
    "for file in os.listdir(\"../../byTA_hw1/valid/images\"):\n",
    "    files.append(\"../../byTA_hw1/valid/images/\" + file)\n",
    "    \n",
    "results = model(files)"
   ]
  },
  {
   "cell_type": "code",
   "execution_count": 16,
   "metadata": {},
   "outputs": [],
   "source": [
    "import json\n",
    "\n",
    "def process_results(results):\n",
    "    processed_data = {}\n",
    "    \n",
    "    for i, result in enumerate(results):\n",
    "        image_name = result[0].path.split(\"/\")[-1]\n",
    "        boxes = result.boxes.xyxy.tolist()\n",
    "        labels = result.boxes.cls.tolist()\n",
    "        \n",
    "        processed_data[image_name] = {\n",
    "            \"boxes\": boxes,\n",
    "            \"labels\": labels\n",
    "        }\n",
    "    \n",
    "    return processed_data\n",
    "\n",
    "\n",
    "processed_results = process_results(results)\n",
    "json_output = json.dumps(processed_results, indent=4)\n",
    "\n",
    "with open('results.json', 'w') as f:\n",
    "    json.dump(processed_results, f, indent=4)"
   ]
  },
  {
   "cell_type": "code",
   "execution_count": null,
   "metadata": {},
   "outputs": [],
   "source": [
    "!python eval.py \"results.json\" \"../../byTA_hw1/valid_target.json\""
   ]
  },
  {
   "cell_type": "markdown",
   "metadata": {},
   "source": [
    "# Test"
   ]
  },
  {
   "cell_type": "code",
   "execution_count": null,
   "metadata": {},
   "outputs": [],
   "source": [
    "files = []\n",
    "for file in os.listdir(\"../../byTA_hw1/test/images\"):\n",
    "    files.append(\"../../byTA_hw1/test/images/\" + file)\n",
    "    \n",
    "results = model(files)\n",
    "\n",
    "processed_results = process_results(results)\n",
    "json_output = json.dumps(processed_results, indent=4)\n",
    "\n",
    "with open('results.json', 'w') as f:\n",
    "    json.dump(processed_results, f, indent=4)"
   ]
  }
 ],
 "metadata": {
  "kernelspec": {
   "display_name": "Python 3",
   "language": "python",
   "name": "python3"
  },
  "language_info": {
   "codemirror_mode": {
    "name": "ipython",
    "version": 3
   },
   "file_extension": ".py",
   "mimetype": "text/x-python",
   "name": "python",
   "nbconvert_exporter": "python",
   "pygments_lexer": "ipython3",
   "version": "3.9.12"
  }
 },
 "nbformat": 4,
 "nbformat_minor": 2
}
